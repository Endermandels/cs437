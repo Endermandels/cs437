{
 "cells": [
  {
   "cell_type": "markdown",
   "metadata": {},
   "source": [
    "# Name\n",
    "Elijah Delavar\n",
    "\n",
    "# Data Set Source\n",
    "https://www.kaggle.com/code/mrsimple07/videogames-sales-reviews-analysis/input"
   ]
  },
  {
   "cell_type": "code",
   "execution_count": null,
   "metadata": {},
   "outputs": [],
   "source": [
    "from sklearn.model_selection import train_test_split\n",
    "from sklearn.linear_model import LinearRegression\n",
    "from sklearn.preprocessing import MinMaxScaler\n",
    "from sklearn.pipeline import Pipeline\n",
    "from sklearn.metrics import *\n",
    "\n",
    "import pandas as pd"
   ]
  },
  {
   "cell_type": "code",
   "execution_count": null,
   "metadata": {},
   "outputs": [],
   "source": [
    "TARGET = 'Rest of World'\n",
    "data = pd.read_csv(\"Video Games Sales.csv\")\n",
    "data = data[['North America', 'Europe', 'Japan', 'Rest of World']]\n",
    "data.fillna(value=0, inplace=True)\n",
    "\n",
    "xs = data.drop(columns=[TARGET])\n",
    "ys = data[TARGET]\n",
    "\n",
    "x_train, x_test, y_train, y_test = train_test_split(xs, ys, train_size=0.7)\n",
    "\n",
    "print(x_train)\n",
    "print(x_test)\n",
    "print(y_train)\n",
    "print(y_test)"
   ]
  },
  {
   "cell_type": "code",
   "execution_count": null,
   "metadata": {},
   "outputs": [],
   "source": [
    "steps = [\n",
    "    ('scale', MinMaxScaler()),\n",
    "    ('predict', LinearRegression(n_jobs=-1))\n",
    "]\n",
    "pipe = Pipeline(steps)\n",
    "pipe.fit(x_train, y_train)"
   ]
  },
  {
   "cell_type": "code",
   "execution_count": null,
   "metadata": {},
   "outputs": [],
   "source": [
    "predicted_ys = pipe.predict(x_test)\n",
    "print('r2', r2_score(y_test, predicted_ys))"
   ]
  },
  {
   "cell_type": "markdown",
   "metadata": {},
   "source": [
    "# Column Selection Explanation\n",
    "How much a video game sells for in the major countries would likely influence how many sales\n",
    "it would get across the world.  I chose not to use Global sales, since that would be too strongly\n",
    "coorilated with the Rest of World sales.\n",
    "\n",
    "# Performance Results\n",
    "My model performed decently, above 70% r-squared.  The high performance is likely due to the strong\n",
    "correlation between the North America data and the Target data.\n",
    "\n",
    "# Reason for R-Squared Metric\n",
    "I chose R-Squared because I wanted to know how well the model fits the data."
   ]
  }
 ],
 "metadata": {
  "kernelspec": {
   "display_name": "machine learning",
   "language": "python",
   "name": "machine_learning"
  },
  "language_info": {
   "codemirror_mode": {
    "name": "ipython",
    "version": 3
   },
   "file_extension": ".py",
   "mimetype": "text/x-python",
   "name": "python",
   "nbconvert_exporter": "python",
   "pygments_lexer": "ipython3",
   "version": "3.12.5"
  }
 },
 "nbformat": 4,
 "nbformat_minor": 2
}
